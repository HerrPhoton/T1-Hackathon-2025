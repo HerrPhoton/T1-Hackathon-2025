{
 "cells": [
  {
   "cell_type": "code",
   "execution_count": 59,
   "id": "9dcf1e44",
   "metadata": {},
   "outputs": [],
   "source": [
    "import sys\n",
    "sys.path.append(\"../..\")\n",
    "\n",
    "import time\n",
    "from pathlib import Path\n",
    "\n",
    "import cv2\n",
    "import numpy as np\n",
    "import matplotlib.pyplot as plt\n",
    "from tqdm import tqdm\n",
    "from ultralytics import YOLO\n",
    "from sklearn.utils import resample\n",
    "\n",
    "from src.config.path import SEGMENTATION_YOLO_PATH"
   ]
  },
  {
   "cell_type": "code",
   "execution_count": 60,
   "id": "555ff6c6",
   "metadata": {},
   "outputs": [],
   "source": [
    "def load_yolo_annotations(label_path, image_shape):\n",
    "\n",
    "    h, w = image_shape[:2]\n",
    "    polygons = []\n",
    "\n",
    "    label_path = Path(label_path)\n",
    "    if not label_path.exists():\n",
    "        return []\n",
    "\n",
    "    with open(label_path, 'r') as f:\n",
    "        for line in f:\n",
    "            parts = line.strip().split()\n",
    "            if len(parts) > 5:\n",
    "                coords = np.array(list(map(float, parts[1:])), dtype=np.float32)\n",
    "                coords = coords.reshape(-1, 2)\n",
    "\n",
    "                coords[:, 0] *= w\n",
    "                coords[:, 1] *= h\n",
    "\n",
    "                polygons.append(coords)\n",
    "                \n",
    "    return polygons"
   ]
  },
  {
   "cell_type": "code",
   "execution_count": 61,
   "id": "9fde526f",
   "metadata": {},
   "outputs": [],
   "source": [
    "def polygons_to_mask(polygons, shape):\n",
    "    mask = np.zeros(shape[:2], dtype=np.uint8)\n",
    "    \n",
    "    for polygon in polygons:\n",
    "        cv2.fillPoly(mask, [np.int32(polygon)], 1)\n",
    "    \n",
    "    return mask"
   ]
  },
  {
   "cell_type": "code",
   "execution_count": 62,
   "id": "10e26421",
   "metadata": {},
   "outputs": [],
   "source": [
    "def compute_iou(mask_pred, mask_gt):\n",
    "    intersection = np.logical_and(mask_pred, mask_gt)\n",
    "    union = np.logical_or(mask_pred, mask_gt)\n",
    "    \n",
    "    return intersection.sum() / (union.sum() + 1e-6)"
   ]
  },
  {
   "cell_type": "code",
   "execution_count": null,
   "id": "e68db99e",
   "metadata": {},
   "outputs": [],
   "source": [
    "def bootstrap_ci(values, n_bootstrap=1000, ci=0.95):\n",
    "    bootstrapped_means = []\n",
    "    \n",
    "    for _ in range(n_bootstrap):\n",
    "        sample = resample(values)\n",
    "        bootstrapped_means.append(np.mean(sample))\n",
    "    \n",
    "    lower = np.percentile(bootstrapped_means, (1 - ci) / 2 * 100)\n",
    "    upper = np.percentile(bootstrapped_means, (1 + ci) / 2 * 100)\n",
    "    \n",
    "    return np.mean(values), (lower, upper)"
   ]
  },
  {
   "cell_type": "code",
   "execution_count": 64,
   "id": "852cc1c8",
   "metadata": {},
   "outputs": [],
   "source": [
    "model = YOLO(SEGMENTATION_YOLO_PATH)\n",
    "\n",
    "dataset_path = \"../../datasets/merged/test\"\n",
    "\n",
    "images_dir = Path(dataset_path) / \"images\"\n",
    "labels_dir = Path(dataset_path) / \"labels\"\n",
    "\n",
    "images = list(images_dir.glob(\"*.jpg\")) + list(images_dir.glob(\"*.png\"))\n",
    "labels = list(labels_dir.glob(\"*.txt\"))"
   ]
  },
  {
   "cell_type": "code",
   "execution_count": null,
   "id": "88c8d56f",
   "metadata": {},
   "outputs": [
    {
     "name": "stderr",
     "output_type": "stream",
     "text": [
      "100%|██████████| 4000/4000 [04:59<00:00, 13.35it/s]\n"
     ]
    },
    {
     "name": "stdout",
     "output_type": "stream",
     "text": [
      "IoU [95% CI]: 0.9460 [0.9419, 0.9498]\n",
      "Inference time [ms, 95% CI]: 64.75 [64.45, 65.06]\n"
     ]
    }
   ],
   "source": [
    "values = []\n",
    "latencies = []\n",
    "\n",
    "for image_path, label_path in tqdm(zip(images, labels), total=len(images)):\n",
    "\n",
    "    image_path = str(image_path)\n",
    "    label_path = str(label_path)\n",
    "\n",
    "    start_time = time.perf_counter()\n",
    "    results = model.predict(image_path, classes=[0], verbose=False)\n",
    "    end_time = time.perf_counter()\n",
    "\n",
    "    inference_time_ms = (end_time - start_time) * 1000\n",
    "    latencies.append(inference_time_ms)\n",
    "    \n",
    "    if results[0].masks is None or results[0].masks.xy is None:\n",
    "        continue\n",
    "\n",
    "    shape = results[0].orig_shape\n",
    "\n",
    "    gt_polygons = load_yolo_annotations(label_path, shape)\n",
    "    pred_polygons = results[0].masks.xy\n",
    "\n",
    "    mask_gt = polygons_to_mask(gt_polygons, shape)\n",
    "    mask_pred = polygons_to_mask(pred_polygons, shape)\n",
    "\n",
    "    iou = compute_iou(mask_pred, mask_gt)\n",
    "    values.append(iou)\n",
    "\n",
    "mean_iou, (low_iou, high_iou) = bootstrap_ci(values)\n",
    "mean_time, (low_time, high_time) = bootstrap_ci(latencies)\n",
    "\n",
    "print(f\"IoU [95% CI]: {mean_iou:.4f} [{low_iou:.4f}, {high_iou:.4f}]\")\n",
    "print(f\"Inference time [ms, 95% CI]: {mean_time:.2f} [{low_time:.2f}, {high_time:.2f}]\")"
   ]
  }
 ],
 "metadata": {
  "kernelspec": {
   "display_name": ".venv",
   "language": "python",
   "name": "python3"
  },
  "language_info": {
   "codemirror_mode": {
    "name": "ipython",
    "version": 3
   },
   "file_extension": ".py",
   "mimetype": "text/x-python",
   "name": "python",
   "nbconvert_exporter": "python",
   "pygments_lexer": "ipython3",
   "version": "3.10.11"
  }
 },
 "nbformat": 4,
 "nbformat_minor": 5
}
