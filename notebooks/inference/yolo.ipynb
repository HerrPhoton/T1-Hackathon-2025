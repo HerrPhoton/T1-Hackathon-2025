{
 "cells": [
  {
   "cell_type": "code",
   "execution_count": null,
   "id": "67f9479d",
   "metadata": {},
   "outputs": [],
   "source": [
    "import sys\n",
    "sys.path.append(\"../..\")\n",
    "\n",
    "from ultralytics import YOLO\n",
    "\n",
    "from src.config.path import SEGMENTATION_YOLO_PATH"
   ]
  },
  {
   "cell_type": "code",
   "execution_count": null,
   "id": "f1b79ee4",
   "metadata": {},
   "outputs": [],
   "source": [
    "model = YOLO(SEGMENTATION_YOLO_PATH)\n",
    "\n",
    "model.export(\n",
    "    format='onnx',\n",
    "    opset=12,\n",
    "    simplify=True,\n",
    "    nms=False\n",
    ")"
   ]
  }
 ],
 "metadata": {
  "kernelspec": {
   "display_name": ".venv",
   "language": "python",
   "name": "python3"
  },
  "language_info": {
   "name": "python",
   "version": "3.10.11"
  }
 },
 "nbformat": 4,
 "nbformat_minor": 5
}
