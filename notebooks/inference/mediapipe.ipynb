{
 "cells": [
  {
   "cell_type": "code",
   "execution_count": 1,
   "id": "10d46d1d",
   "metadata": {},
   "outputs": [],
   "source": [
    "import sys\n",
    "sys.path.append(\"../..\")\n",
    "\n",
    "import tflite2onnx\n",
    "from mediapipe.tasks import python\n",
    "from mediapipe.tasks.python import vision\n",
    "\n",
    "from src.config.path import SEGMENTATION_MP_PATH\n"
   ]
  },
  {
   "cell_type": "code",
   "execution_count": 2,
   "id": "4b810a48",
   "metadata": {},
   "outputs": [
    {
     "name": "stderr",
     "output_type": "stream",
     "text": [
      "d:\\My_Files\\Projects\\nn\\T1-Hackathon-2025\\.venv\\lib\\site-packages\\mediapipe\\tasks\\python\\vision\\image_segmenter.py:158: UserWarning: MessageFactory class is deprecated. Please use GetMessageClass() instead of MessageFactory.GetPrototype. MessageFactory class will be removed after 2024.\n",
      "  graph_config = self._runner.get_graph_config()\n"
     ]
    }
   ],
   "source": [
    "base_options = python.BaseOptions(model_asset_path=SEGMENTATION_MP_PATH)\n",
    "options = vision.ImageSegmenterOptions(base_options=base_options, output_category_mask=True)\n",
    "model = vision.ImageSegmenter.create_from_options(options)"
   ]
  },
  {
   "cell_type": "code",
   "execution_count": 3,
   "id": "17f7ced5",
   "metadata": {},
   "outputs": [
    {
     "name": "stderr",
     "output_type": "stream",
     "text": [
      "Data type float16 not supported/tested yet, the generated model may contain error\n",
      "Data type float16 not supported/tested yet, the generated model may contain error\n"
     ]
    },
    {
     "ename": "NotImplementedError",
     "evalue": "Unsupported TFLite OP: 117 HARD_SWISH!",
     "output_type": "error",
     "traceback": [
      "\u001b[1;31m---------------------------------------------------------------------------\u001b[0m",
      "\u001b[1;31mNotImplementedError\u001b[0m                       Traceback (most recent call last)",
      "Cell \u001b[1;32mIn[3], line 1\u001b[0m\n\u001b[1;32m----> 1\u001b[0m \u001b[43mtflite2onnx\u001b[49m\u001b[38;5;241;43m.\u001b[39;49m\u001b[43mconvert\u001b[49m\u001b[43m(\u001b[49m\u001b[38;5;28;43mstr\u001b[39;49m\u001b[43m(\u001b[49m\u001b[43mSEGMENTATION_MP_PATH\u001b[49m\u001b[43m)\u001b[49m\u001b[43m,\u001b[49m\u001b[43m \u001b[49m\u001b[38;5;28;43mstr\u001b[39;49m\u001b[43m(\u001b[49m\u001b[43mSEGMENTATION_MP_PATH\u001b[49m\u001b[38;5;241;43m.\u001b[39;49m\u001b[43mwith_suffix\u001b[49m\u001b[43m(\u001b[49m\u001b[38;5;124;43m\"\u001b[39;49m\u001b[38;5;124;43m.onnx\u001b[39;49m\u001b[38;5;124;43m\"\u001b[39;49m\u001b[43m)\u001b[49m\u001b[43m)\u001b[49m\u001b[43m)\u001b[49m\n",
      "File \u001b[1;32md:\\My_Files\\Projects\\nn\\T1-Hackathon-2025\\.venv\\lib\\site-packages\\tflite2onnx\\convert.py:44\u001b[0m, in \u001b[0;36mconvert\u001b[1;34m(tflite_path, onnx_path, explicit_layouts)\u001b[0m\n\u001b[0;32m     41\u001b[0m     im \u001b[38;5;241m=\u001b[39m tflite\u001b[38;5;241m.\u001b[39mModel\u001b[38;5;241m.\u001b[39mGetRootAsModel(buf, \u001b[38;5;241m0\u001b[39m)\n\u001b[0;32m     43\u001b[0m model \u001b[38;5;241m=\u001b[39m Model(im)\n\u001b[1;32m---> 44\u001b[0m \u001b[43mmodel\u001b[49m\u001b[38;5;241;43m.\u001b[39;49m\u001b[43mconvert\u001b[49m\u001b[43m(\u001b[49m\u001b[43mexplicit_layouts\u001b[49m\u001b[43m)\u001b[49m\n\u001b[0;32m     45\u001b[0m model\u001b[38;5;241m.\u001b[39msave(onnx_path)\n\u001b[0;32m     46\u001b[0m logger\u001b[38;5;241m.\u001b[39minfo(\u001b[38;5;124m\"\u001b[39m\u001b[38;5;124mConverted ONNX model: \u001b[39m\u001b[38;5;132;01m%s\u001b[39;00m\u001b[38;5;124m\"\u001b[39m, onnx_path)\n",
      "File \u001b[1;32md:\\My_Files\\Projects\\nn\\T1-Hackathon-2025\\.venv\\lib\\site-packages\\tflite2onnx\\model.py:39\u001b[0m, in \u001b[0;36mModel.convert\u001b[1;34m(self, explicit_layouts)\u001b[0m\n\u001b[0;32m     38\u001b[0m \u001b[38;5;28;01mdef\u001b[39;00m\u001b[38;5;250m \u001b[39m\u001b[38;5;21mconvert\u001b[39m(\u001b[38;5;28mself\u001b[39m, explicit_layouts):\n\u001b[1;32m---> 39\u001b[0m     \u001b[38;5;28;43mself\u001b[39;49m\u001b[38;5;241;43m.\u001b[39;49m\u001b[43mparse\u001b[49m\u001b[43m(\u001b[49m\u001b[43m)\u001b[49m\n\u001b[0;32m     40\u001b[0m     logger\u001b[38;5;241m.\u001b[39mdebug(\u001b[38;5;124m\"\u001b[39m\u001b[38;5;124mConverting...\u001b[39m\u001b[38;5;124m\"\u001b[39m)\n\u001b[0;32m     41\u001b[0m     \u001b[38;5;28;01mfor\u001b[39;00m g \u001b[38;5;129;01min\u001b[39;00m \u001b[38;5;28mself\u001b[39m\u001b[38;5;241m.\u001b[39mgraphes:\n",
      "File \u001b[1;32md:\\My_Files\\Projects\\nn\\T1-Hackathon-2025\\.venv\\lib\\site-packages\\tflite2onnx\\model.py:31\u001b[0m, in \u001b[0;36mModel.parse\u001b[1;34m(self)\u001b[0m\n\u001b[0;32m     28\u001b[0m \u001b[38;5;28mself\u001b[39m\u001b[38;5;241m.\u001b[39mgraphes\u001b[38;5;241m.\u001b[39mappend(graph)\n\u001b[0;32m     30\u001b[0m \u001b[38;5;28;01mfor\u001b[39;00m g \u001b[38;5;129;01min\u001b[39;00m \u001b[38;5;28mself\u001b[39m\u001b[38;5;241m.\u001b[39mgraphes:\n\u001b[1;32m---> 31\u001b[0m     \u001b[43mg\u001b[49m\u001b[38;5;241;43m.\u001b[39;49m\u001b[43mparse\u001b[49m\u001b[43m(\u001b[49m\u001b[43m)\u001b[49m\n\u001b[0;32m     33\u001b[0m \u001b[38;5;28mself\u001b[39m\u001b[38;5;241m.\u001b[39msetParsed()\n",
      "File \u001b[1;32md:\\My_Files\\Projects\\nn\\T1-Hackathon-2025\\.venv\\lib\\site-packages\\tflite2onnx\\graph.py:63\u001b[0m, in \u001b[0;36mGraph.parse\u001b[1;34m(self)\u001b[0m\n\u001b[0;32m     61\u001b[0m \u001b[38;5;28;01mfor\u001b[39;00m i \u001b[38;5;129;01min\u001b[39;00m \u001b[38;5;28mrange\u001b[39m(\u001b[38;5;28mself\u001b[39m\u001b[38;5;241m.\u001b[39mgraph\u001b[38;5;241m.\u001b[39mOperatorsLength()):\n\u001b[0;32m     62\u001b[0m     logger\u001b[38;5;241m.\u001b[39mdebug(\u001b[38;5;124m\"\u001b[39m\u001b[38;5;124mParsing operator: \u001b[39m\u001b[38;5;132;01m%d\u001b[39;00m\u001b[38;5;124m\"\u001b[39m, i)\n\u001b[1;32m---> 63\u001b[0m     op \u001b[38;5;241m=\u001b[39m \u001b[38;5;28;43mself\u001b[39;49m\u001b[38;5;241;43m.\u001b[39;49m\u001b[43mOPCFactory\u001b[49m\u001b[38;5;241;43m.\u001b[39;49m\u001b[43mcreate\u001b[49m\u001b[43m(\u001b[49m\u001b[43mi\u001b[49m\u001b[43m)\u001b[49m\n\u001b[0;32m     64\u001b[0m     op\u001b[38;5;241m.\u001b[39mparse()\n\u001b[0;32m     65\u001b[0m     \u001b[38;5;28mself\u001b[39m\u001b[38;5;241m.\u001b[39mops\u001b[38;5;241m.\u001b[39mappend(op)\n",
      "File \u001b[1;32md:\\My_Files\\Projects\\nn\\T1-Hackathon-2025\\.venv\\lib\\site-packages\\tflite2onnx\\op\\common.py:154\u001b[0m, in \u001b[0;36mOpFactory.create\u001b[1;34m(self, index)\u001b[0m\n\u001b[0;32m    152\u001b[0m \u001b[38;5;28;01mif\u001b[39;00m opcode \u001b[38;5;129;01min\u001b[39;00m tflite\u001b[38;5;241m.\u001b[39mBUILTIN_OPCODE2NAME:\n\u001b[0;32m    153\u001b[0m     name \u001b[38;5;241m=\u001b[39m tflite\u001b[38;5;241m.\u001b[39mopcode2name(opcode)\n\u001b[1;32m--> 154\u001b[0m     \u001b[38;5;28;01mraise\u001b[39;00m \u001b[38;5;167;01mNotImplementedError\u001b[39;00m(\u001b[38;5;124m\"\u001b[39m\u001b[38;5;124mUnsupported TFLite OP: \u001b[39m\u001b[38;5;132;01m{}\u001b[39;00m\u001b[38;5;124m \u001b[39m\u001b[38;5;132;01m{}\u001b[39;00m\u001b[38;5;124m!\u001b[39m\u001b[38;5;124m\"\u001b[39m\u001b[38;5;241m.\u001b[39mformat(opcode, name))\n\u001b[0;32m    155\u001b[0m \u001b[38;5;28;01melse\u001b[39;00m:\n\u001b[0;32m    156\u001b[0m     \u001b[38;5;28;01mraise\u001b[39;00m \u001b[38;5;167;01mValueError\u001b[39;00m(\u001b[38;5;124m\"\u001b[39m\u001b[38;5;124mOpcode \u001b[39m\u001b[38;5;132;01m{}\u001b[39;00m\u001b[38;5;124m is not a TFLite builtin operator!\u001b[39m\u001b[38;5;124m\"\u001b[39m\u001b[38;5;241m.\u001b[39mformat(opcode))\n",
      "\u001b[1;31mNotImplementedError\u001b[0m: Unsupported TFLite OP: 117 HARD_SWISH!"
     ]
    }
   ],
   "source": [
    "tflite2onnx.convert(str(SEGMENTATION_MP_PATH), str(SEGMENTATION_MP_PATH.with_suffix(\".onnx\")))"
   ]
  }
 ],
 "metadata": {
  "kernelspec": {
   "display_name": ".venv",
   "language": "python",
   "name": "python3"
  },
  "language_info": {
   "codemirror_mode": {
    "name": "ipython",
    "version": 3
   },
   "file_extension": ".py",
   "mimetype": "text/x-python",
   "name": "python",
   "nbconvert_exporter": "python",
   "pygments_lexer": "ipython3",
   "version": "3.10.11"
  }
 },
 "nbformat": 4,
 "nbformat_minor": 5
}
